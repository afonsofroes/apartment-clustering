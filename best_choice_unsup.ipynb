{
 "cells": [
  {
   "cell_type": "code",
   "execution_count": 1,
   "metadata": {},
   "outputs": [],
   "source": [
    "# generate an nlp model to cluster 21 different appartments based on descriptions and slightly fluctauting prices\n",
    "\n",
    "# import libraries\n",
    "import pandas as pd\n",
    "import numpy as np\n",
    "import re\n",
    "from nltk.corpus import stopwords\n",
    "from nltk.stem import WordNetLemmatizer\n",
    "from nltk.stem import PorterStemmer\n",
    "from sklearn.feature_extraction.text import TfidfVectorizer\n",
    "from sklearn.cluster import KMeans\n",
    "from unidecode import unidecode"
   ]
  },
  {
   "cell_type": "code",
   "execution_count": 2,
   "metadata": {},
   "outputs": [],
   "source": [
    "# import data\n",
    "jan_apr_desc = pd.read_csv('dados_afonso/room_say_report/reservas_por_data_criada/jan_apr.csv')\n",
    "may_june_desc = pd.read_csv('dados_afonso/room_say_report/reservas_por_data_criada/may_june.csv')\n",
    "jul_aug_desc = pd.read_csv('dados_afonso/room_say_report/reservas_por_data_criada/jul_aug.csv')\n",
    "\n",
    "data_desc = pd.concat([jan_apr_desc, may_june_desc, jul_aug_desc])\n",
    "\n",
    "jan_mar_pri = pd.read_csv('dados_afonso/reservation_summary/reservas_por_data_criada/jan_mar.csv')\n",
    "apr_jun_pri = pd.read_csv('dados_afonso/reservation_summary/reservas_por_data_criada/apr_jun.csv')\n",
    "jul_set_pri = pd.read_csv('dados_afonso/reservation_summary/reservas_por_data_criada/jul_set.csv')\n",
    "aug_pri = pd.read_csv('dados_afonso/reservation_summary/reservas_por_data_criada/aug.csv')\n",
    "\n",
    "data_pri = pd.concat([jan_mar_pri, apr_jun_pri, jul_set_pri, aug_pri])\n"
   ]
  },
  {
   "cell_type": "code",
   "execution_count": 3,
   "metadata": {},
   "outputs": [],
   "source": [
    "data = pd.merge(data_desc, data_pri, on='Reservation ID', how='left')\n",
    "\n",
    "data = data[data['Channel_x'] == 'Booking.com']"
   ]
  },
  {
   "cell_type": "code",
   "execution_count": 4,
   "metadata": {},
   "outputs": [],
   "source": [
    "data_proc = data[['Reservation ID', 'Room', 'Total Amount']]"
   ]
  },
  {
   "cell_type": "code",
   "execution_count": 5,
   "metadata": {},
   "outputs": [
    {
     "name": "stderr",
     "output_type": "stream",
     "text": [
      "/tmp/ipykernel_9273/595610279.py:1: SettingWithCopyWarning: \n",
      "A value is trying to be set on a copy of a slice from a DataFrame\n",
      "\n",
      "See the caveats in the documentation: https://pandas.pydata.org/pandas-docs/stable/user_guide/indexing.html#returning-a-view-versus-a-copy\n",
      "  data_proc.rename(columns={'Reservation ID' : 'id', 'Room' : 'desc', 'Total Amount': 'price'}, inplace=True)\n"
     ]
    }
   ],
   "source": [
    "data_proc.rename(columns={'Reservation ID' : 'id', 'Room' : 'desc', 'Total Amount': 'price'}, inplace=True)"
   ]
  },
  {
   "cell_type": "code",
   "execution_count": 6,
   "metadata": {},
   "outputs": [
    {
     "data": {
      "text/plain": [
       "(1766, 21)"
      ]
     },
     "execution_count": 6,
     "metadata": {},
     "output_type": "execute_result"
    }
   ],
   "source": [
    "data.shape"
   ]
  },
  {
   "cell_type": "code",
   "execution_count": 7,
   "metadata": {},
   "outputs": [
    {
     "name": "stderr",
     "output_type": "stream",
     "text": [
      "/tmp/ipykernel_9273/1310291950.py:1: SettingWithCopyWarning: \n",
      "A value is trying to be set on a copy of a slice from a DataFrame.\n",
      "Try using .loc[row_indexer,col_indexer] = value instead\n",
      "\n",
      "See the caveats in the documentation: https://pandas.pydata.org/pandas-docs/stable/user_guide/indexing.html#returning-a-view-versus-a-copy\n",
      "  data_proc.price = data_proc.price.str[:-5]\n"
     ]
    }
   ],
   "source": [
    "data_proc.price = data_proc.price.str[:-5]"
   ]
  },
  {
   "cell_type": "code",
   "execution_count": 8,
   "metadata": {},
   "outputs": [
    {
     "name": "stderr",
     "output_type": "stream",
     "text": [
      "/tmp/ipykernel_9273/2401445117.py:1: SettingWithCopyWarning: \n",
      "A value is trying to be set on a copy of a slice from a DataFrame.\n",
      "Try using .loc[row_indexer,col_indexer] = value instead\n",
      "\n",
      "See the caveats in the documentation: https://pandas.pydata.org/pandas-docs/stable/user_guide/indexing.html#returning-a-view-versus-a-copy\n",
      "  data_proc.price = data_proc.price.astype('float')\n"
     ]
    }
   ],
   "source": [
    "data_proc.price = data_proc.price.astype('float')"
   ]
  },
  {
   "cell_type": "code",
   "execution_count": 9,
   "metadata": {},
   "outputs": [
    {
     "name": "stderr",
     "output_type": "stream",
     "text": [
      "/tmp/ipykernel_9273/2686373225.py:155: ConvergenceWarning: Number of distinct clusters (12) found smaller than n_clusters (21). Possibly due to duplicate points in X.\n",
      "  kmeans_room = KMeans(n_clusters=21, random_state=0).fit(X)\n",
      "/tmp/ipykernel_9273/2686373225.py:156: ConvergenceWarning: Number of distinct clusters (12) found smaller than n_clusters (14). Possibly due to duplicate points in X.\n",
      "  kmeans_type = KMeans(n_clusters=14, random_state=0).fit(X)\n"
     ]
    }
   ],
   "source": [
    "# use nlp to cluster appartments based on descriptions\n",
    "data_proc = data_proc.drop_duplicates(subset='id', keep=False)\n",
    "data = data.drop_duplicates(subset='Reservation ID', keep=False)\n",
    "\n",
    "def clean_text(text):\n",
    "    text = unidecode(text)\n",
    "    text = text.lower()\n",
    "    return text\n",
    "\n",
    "data_proc['mod_desc'] = data_proc['desc'].apply(clean_text)\n",
    "\n",
    "# select number before \"quarto\" and make it a column\n",
    "def add_n_rooms(text):\n",
    "    n_rooms = re.findall(r'(\\d+)\\s+quarto', text)\n",
    "    if len(n_rooms) > 0:\n",
    "        return int(n_rooms[0])\n",
    "    else:\n",
    "        return 1\n",
    "    \n",
    "data_proc['n_rooms'] = data_proc['mod_desc'].apply(add_n_rooms)\n",
    "\n",
    "# add a columns for road\n",
    "def add_road(text):\n",
    "    rua = re.findall(r'rua\\s+(\\w+)', text)\n",
    "    if len(rua) > 0:\n",
    "        return rua[0]\n",
    "    else:\n",
    "        return 'no_road'\n",
    "    \n",
    "data_proc['road'] = data_proc['mod_desc'].apply(add_road)\n",
    "\n",
    "# add a column for terreo\n",
    "def add_ground(text):\n",
    "    ground = re.findall(r'terreo', text)\n",
    "    if len(ground) > 0:\n",
    "        return 1\n",
    "    else:\n",
    "        return 0\n",
    "    \n",
    "data_proc['ground'] = data_proc['mod_desc'].apply(add_ground)\n",
    "\n",
    "# add a column for the door number\n",
    "def add_door(text):\n",
    "    text = text.replace('n.º', '')\n",
    "    door = re.search(r\"rua.+?,\\s*(\\d{1,2}\\b)\", text)\n",
    "        \n",
    "    if door is not None:\n",
    "        return int(door.group(1))\n",
    "    else:\n",
    "        return 0\n",
    "    \n",
    "data_proc['door'] = data_proc['mod_desc'].apply(add_door)\n",
    "\n",
    "# add a column for the quarto\n",
    "def add_quarto(text):\n",
    "    quarto = re.findall(r'quarto', text)\n",
    "    if len(quarto) > 0:\n",
    "        return 1\n",
    "    else:\n",
    "        return 0\n",
    "    \n",
    "data_proc['quarto'] = data_proc['mod_desc'].apply(add_quarto)\n",
    "\n",
    "# add a column for terraco\n",
    "def add_terrace(text):\n",
    "    terrace = re.findall(r'terraco', text)\n",
    "    if len(terrace) > 0:\n",
    "        return 1\n",
    "    else:\n",
    "        return 0\n",
    "    \n",
    "data_proc['terrace'] = data_proc['mod_desc'].apply(add_terrace)\n",
    "\n",
    "# add a column for view of the river\n",
    "def add_river(text):\n",
    "    river = re.findall(r'rio', text)\n",
    "    if len(river) > 0:\n",
    "        return 1\n",
    "    else:\n",
    "        return 0\n",
    "    \n",
    "data_proc['river'] = data_proc['mod_desc'].apply(add_river)\n",
    "\n",
    "# remove stuff that I've noticed is not relevant\n",
    "def remove_manually(text):\n",
    "    text = re.sub(r'\\d{1,2}%', '', text)\n",
    "    text = text.replace('n.º', '')\n",
    "    text = text.replace('united states pos', '')\n",
    "    text = text.replace('nao reembolsavel', '')\n",
    "    text = text.replace('-', '')\n",
    "    text = text.replace('general', '')\n",
    "    text = text.replace('oferta', '')\n",
    "    text = text.replace('apartamento', '')\n",
    "    text = text.replace('com', '')\n",
    "    text = text.replace('high season', '')\n",
    "    text = text.replace('night', '')\n",
    "    text = text.replace('reserva antecipada', '')\n",
    "    text = re.sub(r'\\d{1,2} de \\w{3} de', '', text)\n",
    "    text = re.sub(r'\\w{3} \\d{1,2}', '', text)\n",
    "    text = re.sub(r'\\d', '', text)\n",
    "    return text\n",
    "\n",
    "\n",
    "data_proc['mod_desc'] = data_proc['mod_desc'].apply(remove_manually)\n",
    "\n",
    "\n",
    "# lemmatize data\n",
    "lemmatizer = WordNetLemmatizer()\n",
    "def lemmatize_text(text):\n",
    "    text = [lemmatizer.lemmatize(word) for word in text.split()]\n",
    "    return \" \".join(text)\n",
    "\n",
    "data_proc['mod_desc'] = data_proc['mod_desc'].apply(lemmatize_text)\n",
    "\n",
    "# stem data\n",
    "stemmer = PorterStemmer()\n",
    "def stem_text(text):\n",
    "    text = [stemmer.stem(word) for word in text.split()]\n",
    "    return \" \".join(text)\n",
    "\n",
    "data_proc['mod_desc'] = data_proc['mod_desc'].apply(stem_text)\n",
    "\n",
    "# remove stopwords\n",
    "stop_words = set(stopwords.words('portuguese'))\n",
    "\n",
    "def remove_stopwords(text):\n",
    "    text = [word for word in text.split() if word not in stop_words]\n",
    "    return \" \".join(text)\n",
    "\n",
    "data_proc['mod_desc'] = data_proc['mod_desc'].apply(remove_stopwords)\n",
    "\n",
    "# vectorize data\n",
    "vectorizer = TfidfVectorizer()\n",
    "\n",
    "# one hot encode road\n",
    "road_ohe = pd.get_dummies(data_proc['road'])\n",
    "\n",
    "# define X, which contains a vector for each description and a price\n",
    "vectors = vectorizer.fit_transform(data_proc['mod_desc'])\n",
    "vectors_df = pd.DataFrame(vectors.toarray())\n",
    "price = data_proc['price']\n",
    "n_rooms = data_proc['n_rooms']\n",
    "road_ohe = pd.get_dummies(data_proc['road'])\n",
    "terrace = data_proc['terrace']\n",
    "ground = data_proc['ground']\n",
    "door = data_proc['door']\n",
    "door_ohe = pd.get_dummies(data_proc['door'])\n",
    "river = data_proc['river']\n",
    "door_ohe = pd.get_dummies(data_proc['door'])\n",
    "quarto = data_proc['quarto']\n",
    "X = np.column_stack((n_rooms, road_ohe, quarto, terrace, ground, door_ohe, river))\n",
    "\n",
    "\n",
    "# cluster data\n",
    "kmeans_room = KMeans(n_clusters=21, random_state=0).fit(X)\n",
    "kmeans_type = KMeans(n_clusters=14, random_state=0).fit(X)\n",
    "\n",
    "# add cluster column to data\n",
    "data_proc['cluster_room'] = kmeans_room.labels_\n",
    "data_proc['cluster_type'] = kmeans_type.labels_\n",
    "\n",
    "# add cluster column to data\n",
    "data['cluster_room'] = kmeans_room.labels_\n",
    "data['cluster_type'] = kmeans_type.labels_\n",
    "data['n_rooms'] = n_rooms\n",
    "data['door'] = door"
   ]
  },
  {
   "cell_type": "code",
   "execution_count": 10,
   "metadata": {},
   "outputs": [
    {
     "data": {
      "text/plain": [
       "0     1020\n",
       "3      190\n",
       "19      91\n",
       "30      87\n",
       "Name: door, dtype: int64"
      ]
     },
     "execution_count": 10,
     "metadata": {},
     "output_type": "execute_result"
    }
   ],
   "source": [
    "data.door.value_counts()\n"
   ]
  },
  {
   "cell_type": "code",
   "execution_count": 11,
   "metadata": {},
   "outputs": [
    {
     "data": {
      "text/plain": [
       "cluster_type\n",
       "0     1\n",
       "1     1\n",
       "2     1\n",
       "3     1\n",
       "5     1\n",
       "6     1\n",
       "7     1\n",
       "8     1\n",
       "9     1\n",
       "10    1\n",
       "11    1\n",
       "12    1\n",
       "Name: cluster_room, dtype: int64"
      ]
     },
     "execution_count": 11,
     "metadata": {},
     "output_type": "execute_result"
    }
   ],
   "source": [
    "data_proc.groupby('cluster_type').cluster_room.nunique()"
   ]
  },
  {
   "cell_type": "code",
   "execution_count": 12,
   "metadata": {},
   "outputs": [
    {
     "data": {
      "text/plain": [
       "cluster_type\n",
       "0     1\n",
       "1     1\n",
       "2     1\n",
       "3     1\n",
       "5     1\n",
       "6     1\n",
       "7     1\n",
       "8     1\n",
       "9     1\n",
       "10    1\n",
       "11    1\n",
       "12    1\n",
       "Name: n_rooms, dtype: int64"
      ]
     },
     "execution_count": 12,
     "metadata": {},
     "output_type": "execute_result"
    }
   ],
   "source": [
    "data_proc.groupby('cluster_type').n_rooms.nunique()"
   ]
  },
  {
   "cell_type": "code",
   "execution_count": 13,
   "metadata": {},
   "outputs": [
    {
     "data": {
      "text/plain": [
       "array(['Apartamento com 2 Quartos (4 Adultos) e Vista Rio - Rua de Santo - High Season 3 Nights',\n",
       "       'Apartamento com 2 Quartos (4 Adultos) e Vista Rio - Rua de Santo - General - Mobile(App) Rate',\n",
       "       'Apartamento com 2 Quartos (4 Adultos) e Vista Rio - Rua de Santo - General - 37% - Oferta por Tempo Limitado - 21 de jan de 2022',\n",
       "       'Apartamento com 2 Quartos (4 Adultos) e Vista Rio - Rua de Santo - General - 37% - Oferta por Tempo Limitado - 21 de jan de 2022',\n",
       "       'Apartamento com 2 Quartos (4 Adultos) e Vista Rio - Rua de Santo - General - 39% - Oferta InÃ\\xadcio de 2022 - 2 de Fev de 2022',\n",
       "       'Apartamento com 2 Quartos (4 Adultos) e Vista Rio - Rua de Santo - General - 39% - Oferta InÃ\\xadcio de 2022 - 2 de Fev de 2022',\n",
       "       'Apartamento com 2 Quartos (4 Adultos) e Vista Rio - Rua de Santo - General - High Season 3 Nights',\n",
       "       'Apartamento com 2 Quartos (4 Adultos) e Vista Rio - Rua de Santo - General - 39% - Oferta InÃ\\xadcio de 2022 - 2 de Fev de 2022',\n",
       "       'Apartamento com 2 Quartos (4 Adultos) e Vista Rio - Rua de Santo - General - 39% - Oferta InÃ\\xadcio de 2022 - 2 de Fev de 2022',\n",
       "       'Apartamento com 2 Quartos (4 Adultos) e Vista Rio - Rua de Santo - General - 35% - Oferta InÃ\\xadcio de 2022 - 30 de jan de 2022',\n",
       "       'Apartamento com 2 Quartos (4 Adultos) e Vista Rio - Rua de Santo - General - High Season 3 Nights',\n",
       "       'Apartamento com 2 Quartos (4 Adultos) e Vista Rio - Rua de Santo - General - 39% - Oferta InÃ\\xadcio de 2022 - 2 de Fev de 2022',\n",
       "       'Apartamento com 2 Quartos (4 Adultos) e Vista Rio - Rua de Santo - General - 39% - Oferta InÃ\\xadcio de 2022 - 2 de Fev de 2022',\n",
       "       'Apartamento com 2 Quartos (4 Adultos) e Vista Rio - Rua de Santo - General - 39% - Oferta InÃ\\xadcio de 2022 - 2 de Fev de 2022',\n",
       "       'Apartamento com 2 Quartos (4 Adultos) e Vista Rio - Rua de Santo - General - 17% - Reserva antecipada - 5 de Fev de 2022',\n",
       "       'Apartamento com 2 Quartos (4 Adultos) e Vista Rio - Rua de Santo - General - 15% - Reserva antecipada',\n",
       "       'Apartamento com 2 Quartos (4 Adultos) e Vista Rio - Rua de Santo - General - High Season 3 Nights',\n",
       "       'Apartamento com 2 Quartos (4 Adultos) e Vista Rio - Rua de Santo - General - 44% - Oferta BÃ¡sica - 25 de fev de 2022',\n",
       "       'Apartamento com 2 Quartos (4 Adultos) e Vista Rio - Rua de Santo - General - 43% - Oferta BÃ¡sica - 4 de mar de 2022',\n",
       "       'Apartamento com 2 Quartos (4 Adultos) e Vista Rio - Rua de Santo - General - 43% - Oferta BÃ¡sica - 4 de mar de 2022',\n",
       "       'Apartamento com 2 Quartos (4 Adultos) e Vista Rio - Rua de Santo - General - 15% - Reserva antecipada',\n",
       "       'Apartamento com 2 Quartos (4 Adultos) e Vista Rio - Rua de Santo - General - 33% - Oferta por Tempo Limitado - 25 de fev de 2022',\n",
       "       'Apartamento com 2 Quartos (4 Adultos) e Vista Rio - Rua de Santo - General - High Season 3 Nights',\n",
       "       'Apartamento com 2 Quartos (4 Adultos) e Vista Rio - Rua de Santo - General - 33% - Oferta por Tempo Limitado - 25 de fev de 2022',\n",
       "       'Apartamento com 2 Quartos (4 Adultos) e Vista Rio - Rua de Santo - General - High Season 3 Nights',\n",
       "       'Apartamento com 2 Quartos (4 Adultos) e Vista Rio - Rua de Santo - General - United States POS',\n",
       "       'Apartamento com 2 Quartos (4 Adultos) e Vista Rio - Rua de Santo - General - Tarifa semanal -22%',\n",
       "       'Apartamento com 2 Quartos (4 Adultos) e Vista Rio - Rua de Santo - General - 43% - Oferta BÃ¡sica - 4 de mar de 2022',\n",
       "       'Apartamento com 2 Quartos (4 Adultos) e Vista Rio - Rua de Santo - 33% - Oferta por Tempo Limitado - 13 de mar de 2022',\n",
       "       'Apartamento com 2 Quartos (4 Adultos) e Vista Rio - Rua de Santo - General - High Season 3 Nights',\n",
       "       'Apartamento com 2 Quartos (4 Adultos) e Vista Rio - Rua de Santo - General - High Season 3 Nights',\n",
       "       'Apartamento com 2 Quartos (4 Adultos) e Vista Rio - Rua de Santo - General - High Season 3 Nights',\n",
       "       'Apartamento com 2 Quartos (4 Adultos) e Vista Rio - Rua de Santo - General - 33% - Oferta por Tempo Limitado - 30 de mar de 2022',\n",
       "       'Apartamento com 2 Quartos (4 Adultos) e Vista Rio - Rua de Santo - General - United States POS',\n",
       "       'Apartamento com 2 Quartos (4 Adultos) e Vista Rio - Rua de Santo - General - United States POS',\n",
       "       'Apartamento com 2 Quartos (4 Adultos) e Vista Rio - Rua de Santo - General - United States POS',\n",
       "       'Apartamento com 2 Quartos (4 Adultos) e Vista Rio - Rua de Santo - General - United States POS',\n",
       "       'Apartamento com 2 Quartos (4 Adultos) e Vista Rio - Rua de Santo - General - 23% - Oferta BÃ¡sica - 3 de abr de 2022',\n",
       "       'Apartamento com 2 Quartos (4 Adultos) e Vista Rio - Rua de Santo - General - High Season 3 Nights',\n",
       "       'Apartamento com 2 Quartos (4 Adultos) e Vista Rio - Rua de Santo - General - High Season 3 Nights',\n",
       "       'Apartamento com 2 Quartos (4 Adultos) e Vista Rio - Rua de Santo - General - 33% - Oferta por Tempo Limitado - 17 de abr de 2022',\n",
       "       'Apartamento com 2 Quartos (4 Adultos) e Vista Rio - Rua de Santo - General - 33% - Oferta por Tempo Limitado - 17 de abr de 2022',\n",
       "       'Apartamento com 2 Quartos (4 Adultos) e Vista Rio - Rua de Santo - Não reembolsável - 33% - Oferta por Tempo Limitado - 17 de abr de 2022',\n",
       "       'Apartamento com 2 Quartos (4 Adultos) e Vista Rio - Rua de Santo - General - 23% - Oferta BÃ¡sica - 3 de abr de 2022',\n",
       "       'Apartamento com 2 Quartos (4 Adultos) e Vista Rio - Rua de Santo - General - High Season 3 Nights',\n",
       "       'Apartamento com 2 Quartos (4 Adultos) e Vista Rio - Rua de Santo - General - 33% - Oferta por Tempo Limitado - 17 de abr de 2022',\n",
       "       'Apartamento com 2 Quartos (4 Adultos) e Vista Rio - Rua de Santo - General - United States POS',\n",
       "       'Apartamento com 2 Quartos (4 Adultos) e Vista Rio - Rua de Santo - General - High Season 3 Nights',\n",
       "       'Apartamento com 2 Quartos (4 Adultos) e Vista Rio - Rua de Santo - General - United States POS',\n",
       "       'Apartamento com 2 Quartos (4 Adultos) e Vista Rio - Rua de Santo - General - 32% - Oferta por Tempo Limitado - 4 de mai de 2022',\n",
       "       'Apartamento com 2 Quartos (4 Adultos) e Vista Rio - Rua de Santo - General - High Season 3 Nights',\n",
       "       'Apartamento com 2 Quartos (4 Adultos) e Vista Rio - Rua de Santo - General - 32% - Oferta por Tempo Limitado - 20 de mai de 2022',\n",
       "       'Apartamento com 2 Quartos (4 Adultos) e Vista Rio - Rua de Santo - General - 32% - Oferta por Tempo Limitado - 20 de mai de 2022',\n",
       "       'Apartamento com 2 Quartos (4 Adultos) e Vista Rio - Rua de Santo - General - High Season 3 Nights',\n",
       "       'Apartamento com 2 Quartos (4 Adultos) e Vista Rio - Rua de Santo - General - High Season 3 Nights',\n",
       "       'Apartamento com 2 Quartos (4 Adultos) e Vista Rio - Rua de Santo - General - 32% - Oferta por Tempo Limitado - 20 de mai de 2022',\n",
       "       'Apartamento com 2 Quartos (4 Adultos) e Vista Rio - Rua de Santo - General - 32% - Oferta por Tempo Limitado - 20 de mai de 2022',\n",
       "       'Apartamento com 2 Quartos (4 Adultos) e Vista Rio - Rua de Santo - General - 23% - Oferta Básica - 3 de abr de 2022',\n",
       "       'Apartamento com 2 Quartos (4 Adultos) e Vista Rio - Rua de Santo - General - High Season 3 Nights',\n",
       "       'Não reembolsável - Apartamento com 2 Quartos (4 Adultos) e Vista Rio - Rua de Santo - High Season 3 Nights',\n",
       "       'Apartamento com 2 Quartos (4 Adultos) e Vista Rio - Rua de Santo - General - United States POS',\n",
       "       'Apartamento com 2 Quartos (4 Adultos) e Vista Rio - Rua de Santo - General - High Season 3 Nights',\n",
       "       'General - Apartamento com 2 Quartos (4 Adultos) e Vista Rio - Rua de Santo - High Season 3 Nights',\n",
       "       'General - Apartamento com 2 Quartos (4 Adultos) e Vista Rio - Rua de Santo - High Season 3 Nights',\n",
       "       'General - Apartamento com 2 Quartos (4 Adultos) e Vista Rio - Rua de Santo - High Season 3 Nights',\n",
       "       'General - Apartamento com 2 Quartos (4 Adultos) e Vista Rio - Rua de Santo - Tarifa semanal -22%',\n",
       "       'General - Apartamento com 2 Quartos (4 Adultos) e Vista Rio - Rua de Santo - 23% - Oferta Básica - 3 de abr de 2022',\n",
       "       'General - Apartamento com 2 Quartos (4 Adultos) e Vista Rio - Rua de Santo - 23% - Oferta Básica - 3 de abr de 2022',\n",
       "       'General - Apartamento com 2 Quartos (4 Adultos) e Vista Rio - Rua de Santo - 23% - Oferta Básica - 3 de abr de 2022',\n",
       "       'General - Apartamento com 2 Quartos (4 Adultos) e Vista Rio - Rua de Santo - 23% - Oferta Básica - 3 de abr de 2022',\n",
       "       'General - Apartamento com 2 Quartos (4 Adultos) e Vista Rio - Rua de Santo - 23% - Oferta Básica - 3 de abr de 2022',\n",
       "       'Apartamento com 2 Quartos (4 Adultos) e Vista Rio - Rua de Santo - General - 32% - Oferta por Tempo Limitado - 11 de jul de 2022',\n",
       "       'Apartamento com 2 Quartos (4 Adultos) e Vista Rio - Rua de Santo - General - 32% - Oferta por Tempo Limitado - 11 de jul de 2022',\n",
       "       'General - Apartamento com 2 Quartos (4 Adultos) e Vista Rio - Rua de Santo - 23% - Oferta Básica - 3 de abr de 2022',\n",
       "       'Apartamento com 2 Quartos (4 Adultos) e Vista Rio - Rua de Santo - General - 23% - Oferta Básica - 3 de abr de 2022',\n",
       "       'Apartamento com 2 Quartos (4 Adultos) e Vista Rio - Rua de Santo - General - Australia POS',\n",
       "       'Apartamento com 2 Quartos (4 Adultos) e Vista Rio - Rua de Santo - General - 23% - Oferta Básica - 3 de abr de 2022',\n",
       "       'General - Apartamento com 2 Quartos (4 Adultos) e Vista Rio - Rua de Santo - Mobile(TDot) Rate',\n",
       "       'Apartamento com 2 Quartos (4 Adultos) e Vista Rio - Rua de Santo - General - 23% - Oferta Básica - 3 de abr de 2022',\n",
       "       'Não reembolsável - Apartamento com 2 Quartos (4 Adultos) e Vista Rio - Rua de Santo - 23% - Oferta Básica - 3 de abr de 2022',\n",
       "       'Apartamento com 2 Quartos (4 Adultos) e Vista Rio - Rua de Santo - Não reembolsável - 23% - Oferta Básica - 3 de abr de 2022',\n",
       "       'Apartamento com 2 Quartos (4 Adultos) e Vista Rio - Rua de Santo - General - Tarifa semanal - 18%'],\n",
       "      dtype=object)"
      ]
     },
     "execution_count": 13,
     "metadata": {},
     "output_type": "execute_result"
    }
   ],
   "source": [
    "data.Room[data.cluster_type == 0].values"
   ]
  },
  {
   "cell_type": "code",
   "execution_count": null,
   "metadata": {},
   "outputs": [],
   "source": []
  },
  {
   "cell_type": "code",
   "execution_count": null,
   "metadata": {},
   "outputs": [],
   "source": []
  }
 ],
 "metadata": {
  "kernelspec": {
   "display_name": "lewagon",
   "language": "python",
   "name": "python3"
  },
  "language_info": {
   "codemirror_mode": {
    "name": "ipython",
    "version": 3
   },
   "file_extension": ".py",
   "mimetype": "text/x-python",
   "name": "python",
   "nbconvert_exporter": "python",
   "pygments_lexer": "ipython3",
   "version": "3.10.6"
  },
  "orig_nbformat": 4,
  "vscode": {
   "interpreter": {
    "hash": "ac9eb09536c42b2694f0c1de629ff0ba0bdd685fc40e53a79c8a735909d5445b"
   }
  }
 },
 "nbformat": 4,
 "nbformat_minor": 2
}
