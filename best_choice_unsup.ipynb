{
 "cells": [
  {
   "cell_type": "code",
   "execution_count": 2,
   "metadata": {},
   "outputs": [],
   "source": [
    "# generate an nlp model to cluster 21 different appartments based on descriptions and slightly fluctauting prices\n",
    "\n",
    "# import libraries\n",
    "import pandas as pd\n",
    "import numpy as np\n",
    "import matplotlib.pyplot as plt\n",
    "import seaborn as sns\n",
    "import re\n",
    "import nltk\n",
    "from nltk.corpus import stopwords\n",
    "from nltk.stem import WordNetLemmatizer\n",
    "from nltk.stem import PorterStemmer\n",
    "from nltk.tokenize import word_tokenize\n",
    "from sklearn.feature_extraction.text import CountVectorizer\n",
    "from sklearn.feature_extraction.text import TfidfVectorizer\n",
    "from sklearn.cluster import KMeans\n",
    "from unidecode import unidecode\n",
    "from num2words import num2words"
   ]
  },
  {
   "cell_type": "code",
   "execution_count": 3,
   "metadata": {},
   "outputs": [],
   "source": [
    "# import data\n",
    "jan_apr_desc = pd.read_csv('dados_afonso/room_say_report/reservas_por_data_criada/jan_apr.csv')\n",
    "may_june_desc = pd.read_csv('dados_afonso/room_say_report/reservas_por_data_criada/may_june.csv')\n",
    "jul_aug_desc = pd.read_csv('dados_afonso/room_say_report/reservas_por_data_criada/jul_aug.csv')\n",
    "\n",
    "data_desc = pd.concat([jan_apr_desc, may_june_desc, jul_aug_desc])\n",
    "\n",
    "jan_mar_pri = pd.read_csv('dados_afonso/reservation_summary/reservas_por_data_criada/jan_mar.csv')\n",
    "apr_jun_pri = pd.read_csv('dados_afonso/reservation_summary/reservas_por_data_criada/apr_jun.csv')\n",
    "jul_set_pri = pd.read_csv('dados_afonso/reservation_summary/reservas_por_data_criada/jul_set.csv')\n",
    "aug_pri = pd.read_csv('dados_afonso/reservation_summary/reservas_por_data_criada/aug.csv')\n",
    "\n",
    "data_pri = pd.concat([jan_mar_pri, apr_jun_pri, jul_set_pri, aug_pri])\n"
   ]
  },
  {
   "cell_type": "code",
   "execution_count": 4,
   "metadata": {},
   "outputs": [],
   "source": [
    "data = pd.merge(data_desc, data_pri, on='Reservation ID', how='left')\n",
    "\n",
    "data = data[data['Channel_x'] == 'Booking.com']"
   ]
  },
  {
   "cell_type": "code",
   "execution_count": 5,
   "metadata": {},
   "outputs": [],
   "source": [
    "data_cols = data[['Reservation ID', 'Room', 'Total Amount']]"
   ]
  },
  {
   "cell_type": "code",
   "execution_count": 6,
   "metadata": {},
   "outputs": [
    {
     "name": "stderr",
     "output_type": "stream",
     "text": [
      "/tmp/ipykernel_3203/2440387659.py:1: SettingWithCopyWarning: \n",
      "A value is trying to be set on a copy of a slice from a DataFrame\n",
      "\n",
      "See the caveats in the documentation: https://pandas.pydata.org/pandas-docs/stable/user_guide/indexing.html#returning-a-view-versus-a-copy\n",
      "  data_cols.rename(columns={'Reservation ID' : 'id', 'Room' : 'desc', 'Total Amount': 'price'}, inplace=True)\n"
     ]
    }
   ],
   "source": [
    "data_cols.rename(columns={'Reservation ID' : 'id', 'Room' : 'desc', 'Total Amount': 'price'}, inplace=True)"
   ]
  },
  {
   "cell_type": "code",
   "execution_count": 7,
   "metadata": {},
   "outputs": [
    {
     "name": "stderr",
     "output_type": "stream",
     "text": [
      "/tmp/ipykernel_3203/1562624752.py:1: SettingWithCopyWarning: \n",
      "A value is trying to be set on a copy of a slice from a DataFrame.\n",
      "Try using .loc[row_indexer,col_indexer] = value instead\n",
      "\n",
      "See the caveats in the documentation: https://pandas.pydata.org/pandas-docs/stable/user_guide/indexing.html#returning-a-view-versus-a-copy\n",
      "  data_cols.price = data_cols.price.str[:-5]\n"
     ]
    }
   ],
   "source": [
    "data_cols.price = data_cols.price.str[:-5]"
   ]
  },
  {
   "cell_type": "code",
   "execution_count": 8,
   "metadata": {},
   "outputs": [
    {
     "name": "stderr",
     "output_type": "stream",
     "text": [
      "/tmp/ipykernel_3203/1542369163.py:1: SettingWithCopyWarning: \n",
      "A value is trying to be set on a copy of a slice from a DataFrame.\n",
      "Try using .loc[row_indexer,col_indexer] = value instead\n",
      "\n",
      "See the caveats in the documentation: https://pandas.pydata.org/pandas-docs/stable/user_guide/indexing.html#returning-a-view-versus-a-copy\n",
      "  data_cols.price = data_cols.price.astype('float')\n"
     ]
    }
   ],
   "source": [
    "data_cols.price = data_cols.price.astype('float')"
   ]
  },
  {
   "cell_type": "code",
   "execution_count": null,
   "metadata": {},
   "outputs": [],
   "source": []
  },
  {
   "cell_type": "code",
   "execution_count": 9,
   "metadata": {},
   "outputs": [],
   "source": [
    "# use nlp to cluster appartments based on descriptions\n",
    "\n",
    "# clean data but leave numbers\n",
    "data_cols = data_cols.drop_duplicates(subset='id', keep=False)\n",
    "data = data.drop_duplicates(subset='Reservation ID', keep=False)\n",
    "\n",
    "def clean_text(text):\n",
    "    text = unidecode(text)\n",
    "    text = text.lower()\n",
    "    return text\n",
    "\n",
    "data_cols['desc'] = data_cols['desc'].apply(clean_text)\n",
    "\n",
    "# select number before \"quarto\" and make it a column\n",
    "def add_n_rooms(text):\n",
    "    n_rooms = re.findall(r'(\\d+)\\s+quarto', text)\n",
    "    if len(n_rooms) > 0:\n",
    "        return int(n_rooms[0])\n",
    "    else:\n",
    "        return 1\n",
    "    \n",
    "data_cols['n_rooms'] = data_cols['desc'].apply(add_n_rooms)\n",
    "\n",
    "# add a columns for road\n",
    "def add_road(text):\n",
    "    rua = re.findall(r'rua\\s+(\\w+)', text)\n",
    "    if len(rua) > 0:\n",
    "        return rua[0]\n",
    "    else:\n",
    "        return 'no_road'\n",
    "    \n",
    "data_cols['road'] = data_cols['desc'].apply(add_road)\n",
    "\n",
    "# remove stuff that I've noticed is not relevant\n",
    "def remove_manually(text):\n",
    "    text = re.sub(r'\\d{1,2}%', '', text)\n",
    "    text = text.replace('nao reembolsavel', '')\n",
    "    text = text.replace('()', '')\n",
    "    text = text.replace('-', '')\n",
    "    text = text.replace('gener', '')\n",
    "    text = text.replace('oferta', '')\n",
    "    text = text.replace('apartamento', '')\n",
    "    text = text.replace('com', '')\n",
    "    text = text.replace('high season', '')\n",
    "    text = text.replace('night', '')\n",
    "    text = text.replace('reserva antecipada', '')\n",
    "    text = re.sub(r'\\d{1,2} adultos', '', text)\n",
    "    text = re.sub(r'\\d{1,2} de \\w{3} de', '', text)\n",
    "    text = re.sub(r'\\w{3} \\d{1,2}', '', text)\n",
    "    text = re.sub(r'\\d', '', text)\n",
    "    return text\n",
    "\n",
    "\n",
    "data_cols['desc'] = data_cols['desc'].apply(remove_manually)\n",
    "\n",
    "\n",
    "# lemmatize data\n",
    "lemmatizer = WordNetLemmatizer()\n",
    "def lemmatize_text(text):\n",
    "    text = [lemmatizer.lemmatize(word) for word in text.split()]\n",
    "    return \" \".join(text)\n",
    "\n",
    "data_cols['desc'] = data_cols['desc'].apply(lemmatize_text)\n",
    "\n",
    "# stem data\n",
    "stemmer = PorterStemmer()\n",
    "def stem_text(text):\n",
    "    text = [stemmer.stem(word) for word in text.split()]\n",
    "    return \" \".join(text)\n",
    "\n",
    "data_cols['desc'] = data_cols['desc'].apply(stem_text)\n",
    "\n",
    "# remove stopwords\n",
    "stop_words = set(stopwords.words('portuguese'))\n",
    "\n",
    "def remove_stopwords(text):\n",
    "    text = [word for word in text.split() if word not in stop_words]\n",
    "    return \" \".join(text)\n",
    "\n",
    "data_cols['desc'] = data_cols['desc'].apply(remove_stopwords)\n",
    "\n",
    "# vectorize data\n",
    "vectorizer = TfidfVectorizer()\n",
    "\n",
    "# one hot encode road\n",
    "road_ohe = pd.get_dummies(data_cols['road'])\n",
    "\n",
    "# define X, which contains a vector for each description and a price\n",
    "vectors = vectorizer.fit_transform(data_cols['desc'])\n",
    "vectors_df = pd.DataFrame(vectors.toarray())\n",
    "price = data_cols['price']\n",
    "n_rooms = data_cols['n_rooms']\n",
    "road_ohe = pd.get_dummies(data_cols['road'])\n",
    "X = np.column_stack((vectors.toarray(), n_rooms, road_ohe))\n",
    "\n",
    "\n",
    "# cluster data\n",
    "kmeans_room = KMeans(n_clusters=21, random_state=0).fit(X)\n",
    "kmeans_type = KMeans(n_clusters=14, random_state=0).fit(X)\n",
    "\n",
    "# add cluster column to data\n",
    "data_cols['cluster_room'] = kmeans_room.labels_\n",
    "data_cols['cluster_type'] = kmeans_type.labels_\n",
    "\n",
    "# add cluster column to data\n",
    "data['cluster_room'] = kmeans_room.labels_\n",
    "data['cluster_type'] = kmeans_type.labels_\n"
   ]
  },
  {
   "cell_type": "code",
   "execution_count": 10,
   "metadata": {},
   "outputs": [
    {
     "data": {
      "text/html": [
       "<div>\n",
       "<style scoped>\n",
       "    .dataframe tbody tr th:only-of-type {\n",
       "        vertical-align: middle;\n",
       "    }\n",
       "\n",
       "    .dataframe tbody tr th {\n",
       "        vertical-align: top;\n",
       "    }\n",
       "\n",
       "    .dataframe thead th {\n",
       "        text-align: right;\n",
       "    }\n",
       "</style>\n",
       "<table border=\"1\" class=\"dataframe\">\n",
       "  <thead>\n",
       "    <tr style=\"text-align: right;\">\n",
       "      <th></th>\n",
       "      <th>id</th>\n",
       "      <th>desc</th>\n",
       "      <th>price</th>\n",
       "      <th>n_rooms</th>\n",
       "      <th>road</th>\n",
       "      <th>cluster_room</th>\n",
       "      <th>cluster_type</th>\n",
       "    </tr>\n",
       "  </thead>\n",
       "  <tbody>\n",
       "    <tr>\n",
       "      <th>0</th>\n",
       "      <td>2468606756</td>\n",
       "      <td>piso terreo inacio</td>\n",
       "      <td>82.08</td>\n",
       "      <td>1</td>\n",
       "      <td>no_road</td>\n",
       "      <td>9</td>\n",
       "      <td>9</td>\n",
       "    </tr>\n",
       "    <tr>\n",
       "      <th>1</th>\n",
       "      <td>3404160971</td>\n",
       "      <td>quarto () rua remedios, inacio</td>\n",
       "      <td>123.12</td>\n",
       "      <td>1</td>\n",
       "      <td>dos</td>\n",
       "      <td>14</td>\n",
       "      <td>13</td>\n",
       "    </tr>\n",
       "    <tr>\n",
       "      <th>2</th>\n",
       "      <td>3545920362</td>\n",
       "      <td>quarto rua santo estevao, s</td>\n",
       "      <td>379.62</td>\n",
       "      <td>1</td>\n",
       "      <td>de</td>\n",
       "      <td>2</td>\n",
       "      <td>2</td>\n",
       "    </tr>\n",
       "    <tr>\n",
       "      <th>3</th>\n",
       "      <td>3807966157</td>\n",
       "      <td>piso terreo s</td>\n",
       "      <td>179.82</td>\n",
       "      <td>1</td>\n",
       "      <td>no_road</td>\n",
       "      <td>9</td>\n",
       "      <td>9</td>\n",
       "    </tr>\n",
       "    <tr>\n",
       "      <th>4</th>\n",
       "      <td>2769935846</td>\n",
       "      <td>quarto () rua remedios, n.o s</td>\n",
       "      <td>390.94</td>\n",
       "      <td>2</td>\n",
       "      <td>dos</td>\n",
       "      <td>6</td>\n",
       "      <td>0</td>\n",
       "    </tr>\n",
       "    <tr>\n",
       "      <th>5</th>\n",
       "      <td>3554122759</td>\n",
       "      <td>quarto al s</td>\n",
       "      <td>253.08</td>\n",
       "      <td>1</td>\n",
       "      <td>no_road</td>\n",
       "      <td>12</td>\n",
       "      <td>8</td>\n",
       "    </tr>\n",
       "    <tr>\n",
       "      <th>6</th>\n",
       "      <td>3554197542</td>\n",
       "      <td>quarto () rua remedios, n.o limitedtim deal</td>\n",
       "      <td>145.08</td>\n",
       "      <td>2</td>\n",
       "      <td>dos</td>\n",
       "      <td>6</td>\n",
       "      <td>0</td>\n",
       "    </tr>\n",
       "    <tr>\n",
       "      <th>7</th>\n",
       "      <td>2719193349</td>\n",
       "      <td>quarto () rua remedios, n.o limitedtim deal</td>\n",
       "      <td>199.02</td>\n",
       "      <td>2</td>\n",
       "      <td>dos</td>\n",
       "      <td>6</td>\n",
       "      <td>0</td>\n",
       "    </tr>\n",
       "    <tr>\n",
       "      <th>8</th>\n",
       "      <td>2841079705</td>\n",
       "      <td>quarto rua remedios, limitedtim deal</td>\n",
       "      <td>564.20</td>\n",
       "      <td>1</td>\n",
       "      <td>dos</td>\n",
       "      <td>14</td>\n",
       "      <td>13</td>\n",
       "    </tr>\n",
       "    <tr>\n",
       "      <th>9</th>\n",
       "      <td>3086509714</td>\n",
       "      <td>superior quarto rua remedios, geniusgeor</td>\n",
       "      <td>180.88</td>\n",
       "      <td>1</td>\n",
       "      <td>dos</td>\n",
       "      <td>0</td>\n",
       "      <td>13</td>\n",
       "    </tr>\n",
       "  </tbody>\n",
       "</table>\n",
       "</div>"
      ],
      "text/plain": [
       "           id                                         desc   price  n_rooms  \\\n",
       "0  2468606756                           piso terreo inacio   82.08        1   \n",
       "1  3404160971               quarto () rua remedios, inacio  123.12        1   \n",
       "2  3545920362                  quarto rua santo estevao, s  379.62        1   \n",
       "3  3807966157                                piso terreo s  179.82        1   \n",
       "4  2769935846                quarto () rua remedios, n.o s  390.94        2   \n",
       "5  3554122759                                  quarto al s  253.08        1   \n",
       "6  3554197542  quarto () rua remedios, n.o limitedtim deal  145.08        2   \n",
       "7  2719193349  quarto () rua remedios, n.o limitedtim deal  199.02        2   \n",
       "8  2841079705         quarto rua remedios, limitedtim deal  564.20        1   \n",
       "9  3086509714     superior quarto rua remedios, geniusgeor  180.88        1   \n",
       "\n",
       "      road  cluster_room  cluster_type  \n",
       "0  no_road             9             9  \n",
       "1      dos            14            13  \n",
       "2       de             2             2  \n",
       "3  no_road             9             9  \n",
       "4      dos             6             0  \n",
       "5  no_road            12             8  \n",
       "6      dos             6             0  \n",
       "7      dos             6             0  \n",
       "8      dos            14            13  \n",
       "9      dos             0            13  "
      ]
     },
     "execution_count": 10,
     "metadata": {},
     "output_type": "execute_result"
    }
   ],
   "source": [
    "data_cols.head(10)\n"
   ]
  },
  {
   "cell_type": "code",
   "execution_count": 11,
   "metadata": {},
   "outputs": [
    {
     "data": {
      "text/plain": [
       "1388"
      ]
     },
     "execution_count": 11,
     "metadata": {},
     "output_type": "execute_result"
    }
   ],
   "source": [
    "data_cols.id.nunique()"
   ]
  },
  {
   "cell_type": "code",
   "execution_count": 12,
   "metadata": {},
   "outputs": [
    {
     "name": "stdout",
     "output_type": "stream",
     "text": [
      "117    Apartamento com 1 Quarto - General - High Seas...\n",
      "Name: Room, dtype: object is room 117    12\n",
      "Name: cluster_room, dtype: int32 which is in cluster 117    8\n",
      "Name: cluster_type, dtype: int32\n"
     ]
    }
   ],
   "source": [
    "data_read = data[['Room', 'cluster_room', 'cluster_type']]\n",
    "sample = data_read.sample(1)\n",
    "\n",
    "print(f\"{sample['Room']} is room {sample['cluster_room']} which is in cluster {sample['cluster_type']}\")\n"
   ]
  },
  {
   "cell_type": "code",
   "execution_count": 13,
   "metadata": {},
   "outputs": [
    {
     "data": {
      "text/plain": [
       "cluster_room\n",
       "0     2\n",
       "1     1\n",
       "2     1\n",
       "3     1\n",
       "4     1\n",
       "5     1\n",
       "6     1\n",
       "7     1\n",
       "8     1\n",
       "9     1\n",
       "10    1\n",
       "11    1\n",
       "12    1\n",
       "13    1\n",
       "14    1\n",
       "15    2\n",
       "16    1\n",
       "17    1\n",
       "18    1\n",
       "19    2\n",
       "20    4\n",
       "Name: cluster_type, dtype: int64"
      ]
     },
     "execution_count": 13,
     "metadata": {},
     "output_type": "execute_result"
    }
   ],
   "source": [
    "data_cols.groupby('cluster_room').cluster_type.nunique()"
   ]
  },
  {
   "cell_type": "code",
   "execution_count": 22,
   "metadata": {},
   "outputs": [
    {
     "data": {
      "text/html": [
       "<div>\n",
       "<style scoped>\n",
       "    .dataframe tbody tr th:only-of-type {\n",
       "        vertical-align: middle;\n",
       "    }\n",
       "\n",
       "    .dataframe tbody tr th {\n",
       "        vertical-align: top;\n",
       "    }\n",
       "\n",
       "    .dataframe thead th {\n",
       "        text-align: right;\n",
       "    }\n",
       "</style>\n",
       "<table border=\"1\" class=\"dataframe\">\n",
       "  <thead>\n",
       "    <tr style=\"text-align: right;\">\n",
       "      <th></th>\n",
       "      <th>desc</th>\n",
       "      <th>n_rooms</th>\n",
       "    </tr>\n",
       "  </thead>\n",
       "  <tbody>\n",
       "    <tr>\n",
       "      <th>90</th>\n",
       "      <td>quarto () rua remedios, n.o unit state po</td>\n",
       "      <td>2</td>\n",
       "    </tr>\n",
       "    <tr>\n",
       "      <th>219</th>\n",
       "      <td>quarto () rua remedios, n.o al unit state po</td>\n",
       "      <td>2</td>\n",
       "    </tr>\n",
       "    <tr>\n",
       "      <th>283</th>\n",
       "      <td>quarto () rua remedios, n.o al unit state po</td>\n",
       "      <td>2</td>\n",
       "    </tr>\n",
       "    <tr>\n",
       "      <th>447</th>\n",
       "      <td>quarto () rua remedios, al unit state po</td>\n",
       "      <td>1</td>\n",
       "    </tr>\n",
       "    <tr>\n",
       "      <th>577</th>\n",
       "      <td>quarto () rua remedios, n.o al unit state po</td>\n",
       "      <td>2</td>\n",
       "    </tr>\n",
       "    <tr>\n",
       "      <th>803</th>\n",
       "      <td>quarto () rua remedios, al unit state po</td>\n",
       "      <td>1</td>\n",
       "    </tr>\n",
       "    <tr>\n",
       "      <th>880</th>\n",
       "      <td>quarto () rua remedios, n.o al unit state po</td>\n",
       "      <td>2</td>\n",
       "    </tr>\n",
       "    <tr>\n",
       "      <th>896</th>\n",
       "      <td>superior quarto rua remedios, al unit state po</td>\n",
       "      <td>1</td>\n",
       "    </tr>\n",
       "    <tr>\n",
       "      <th>928</th>\n",
       "      <td>superior quarto rua remedios, al unit state po</td>\n",
       "      <td>1</td>\n",
       "    </tr>\n",
       "    <tr>\n",
       "      <th>933</th>\n",
       "      <td>superior quarto rua remedios, al unit state po</td>\n",
       "      <td>1</td>\n",
       "    </tr>\n",
       "    <tr>\n",
       "      <th>1022</th>\n",
       "      <td>quarto rua remedios, al unit state po</td>\n",
       "      <td>1</td>\n",
       "    </tr>\n",
       "    <tr>\n",
       "      <th>1044</th>\n",
       "      <td>superior quarto rua remedios, al unit state po</td>\n",
       "      <td>1</td>\n",
       "    </tr>\n",
       "    <tr>\n",
       "      <th>1106</th>\n",
       "      <td>superior quarto rua remedios, al unit state po</td>\n",
       "      <td>1</td>\n",
       "    </tr>\n",
       "    <tr>\n",
       "      <th>1197</th>\n",
       "      <td>quarto rua remedios, unit state po</td>\n",
       "      <td>1</td>\n",
       "    </tr>\n",
       "    <tr>\n",
       "      <th>1228</th>\n",
       "      <td>superior quarto rua remedios, al unit state po</td>\n",
       "      <td>1</td>\n",
       "    </tr>\n",
       "    <tr>\n",
       "      <th>1463</th>\n",
       "      <td>quarto rua remedios, al unit state po</td>\n",
       "      <td>1</td>\n",
       "    </tr>\n",
       "    <tr>\n",
       "      <th>1477</th>\n",
       "      <td>al quarto rua remedios, unit state po</td>\n",
       "      <td>1</td>\n",
       "    </tr>\n",
       "  </tbody>\n",
       "</table>\n",
       "</div>"
      ],
      "text/plain": [
       "                                                desc  n_rooms\n",
       "90         quarto () rua remedios, n.o unit state po        2\n",
       "219     quarto () rua remedios, n.o al unit state po        2\n",
       "283     quarto () rua remedios, n.o al unit state po        2\n",
       "447         quarto () rua remedios, al unit state po        1\n",
       "577     quarto () rua remedios, n.o al unit state po        2\n",
       "803         quarto () rua remedios, al unit state po        1\n",
       "880     quarto () rua remedios, n.o al unit state po        2\n",
       "896   superior quarto rua remedios, al unit state po        1\n",
       "928   superior quarto rua remedios, al unit state po        1\n",
       "933   superior quarto rua remedios, al unit state po        1\n",
       "1022           quarto rua remedios, al unit state po        1\n",
       "1044  superior quarto rua remedios, al unit state po        1\n",
       "1106  superior quarto rua remedios, al unit state po        1\n",
       "1197              quarto rua remedios, unit state po        1\n",
       "1228  superior quarto rua remedios, al unit state po        1\n",
       "1463           quarto rua remedios, al unit state po        1\n",
       "1477           al quarto rua remedios, unit state po        1"
      ]
     },
     "execution_count": 22,
     "metadata": {},
     "output_type": "execute_result"
    }
   ],
   "source": [
    "data_cols[data_cols.cluster_room == 15][['desc', 'n_rooms']]"
   ]
  },
  {
   "cell_type": "code",
   "execution_count": 25,
   "metadata": {},
   "outputs": [
    {
     "data": {
      "text/plain": [
       "cluster_room\n",
       "0     1\n",
       "1     1\n",
       "2     1\n",
       "3     1\n",
       "4     1\n",
       "5     1\n",
       "6     1\n",
       "7     1\n",
       "8     1\n",
       "9     1\n",
       "10    1\n",
       "11    1\n",
       "12    1\n",
       "13    1\n",
       "14    1\n",
       "15    2\n",
       "16    1\n",
       "17    1\n",
       "18    1\n",
       "19    1\n",
       "20    1\n",
       "Name: n_rooms, dtype: int64"
      ]
     },
     "execution_count": 25,
     "metadata": {},
     "output_type": "execute_result"
    }
   ],
   "source": [
    "data_cols.groupby('cluster_room').n_rooms.nunique()"
   ]
  },
  {
   "cell_type": "code",
   "execution_count": 158,
   "metadata": {},
   "outputs": [
    {
     "data": {
      "text/plain": [
       "'Apartamento com 2 Quartos e Vista Rio - Escadinhas de Santo Estê - General - Canada POS'"
      ]
     },
     "execution_count": 158,
     "metadata": {},
     "output_type": "execute_result"
    }
   ],
   "source": [
    "texto"
   ]
  },
  {
   "cell_type": "code",
   "execution_count": 30,
   "metadata": {},
   "outputs": [
    {
     "data": {
      "text/plain": [
       "array(['Apartamento com 2 Quartos (4 Adultos) - Rua dos Remédios, n.º 30 - United States POS',\n",
       "       'Apartamento com 2 Quartos (4 Adultos) - Rua dos Remédios, n.º 30 - General - United States POS',\n",
       "       'Apartamento com 2 Quartos (4 Adultos) - Rua dos Remédios, n.º 30 - General - United States POS',\n",
       "       'Apartamento com 1 Quarto (2 Adultos) - Rua dos Remédios, 30 - General - United States POS',\n",
       "       'Apartamento com 2 Quartos (4 Adultos) - Rua dos Remédios, n.º 30 - General - United States POS',\n",
       "       'Apartamento com 1 Quarto (2 Adultos) - Rua dos Remédios, 30 - General - United States POS',\n",
       "       'Apartamento com 2 Quartos (4 Adultos) - Rua dos Remédios, n.º 30 - General - United States POS',\n",
       "       'Apartamento Superior com 1 Quarto - Rua dos Remédios, 3 - General - United States POS',\n",
       "       'Apartamento Superior com 1 Quarto - Rua dos Remédios, 3 - General - United States POS',\n",
       "       'Apartamento Superior com 1 Quarto - Rua dos Remédios, 3 - General - United States POS',\n",
       "       'Apartamento com 1 Quarto - Rua dos Remédios, 3 - General - United States POS',\n",
       "       'Apartamento Superior com 1 Quarto - Rua dos Remédios, 3 - General - United States POS',\n",
       "       'Apartamento Superior com 1 Quarto - Rua dos Remédios, 3 - General - United States POS',\n",
       "       'Apartamento com 1 Quarto - Rua dos Remédios, 3 - Não reembolsável - United States POS',\n",
       "       'Apartamento Superior com 1 Quarto - Rua dos Remédios, 3 - General - United States POS',\n",
       "       'Apartamento com 1 Quarto - Rua dos Remédios, 3 - General - United States POS',\n",
       "       'General - Apartamento com 1 Quarto - Rua dos Remédios, 3 - United States POS'],\n",
       "      dtype=object)"
      ]
     },
     "execution_count": 30,
     "metadata": {},
     "output_type": "execute_result"
    }
   ],
   "source": [
    "data.Room[data.cluster_room == 15].values"
   ]
  },
  {
   "cell_type": "code",
   "execution_count": null,
   "metadata": {},
   "outputs": [],
   "source": []
  }
 ],
 "metadata": {
  "kernelspec": {
   "display_name": "lewagon",
   "language": "python",
   "name": "python3"
  },
  "language_info": {
   "codemirror_mode": {
    "name": "ipython",
    "version": 3
   },
   "file_extension": ".py",
   "mimetype": "text/x-python",
   "name": "python",
   "nbconvert_exporter": "python",
   "pygments_lexer": "ipython3",
   "version": "3.10.6"
  },
  "orig_nbformat": 4,
  "vscode": {
   "interpreter": {
    "hash": "ac9eb09536c42b2694f0c1de629ff0ba0bdd685fc40e53a79c8a735909d5445b"
   }
  }
 },
 "nbformat": 4,
 "nbformat_minor": 2
}
