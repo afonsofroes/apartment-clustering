{
 "cells": [
  {
   "cell_type": "code",
   "execution_count": 1,
   "metadata": {},
   "outputs": [],
   "source": [
    "# predict the apartment based on a description\n",
    "\n",
    "import pandas as pd\n",
    "import numpy as np\n",
    "import matplotlib.pyplot as plt\n",
    "import seaborn as sns\n",
    "import re\n",
    "import nltk\n",
    "from nltk.corpus import stopwords\n",
    "from nltk.stem import WordNetLemmatizer\n",
    "from nltk.stem import PorterStemmer\n",
    "from nltk.tokenize import word_tokenize\n",
    "from sklearn.feature_extraction.text import CountVectorizer\n",
    "from sklearn.feature_extraction.text import TfidfVectorizer\n",
    "from unidecode import unidecode\n",
    "from sklearn.model_selection import train_test_split\n",
    "from sklearn.linear_model import LogisticRegression\n",
    "from sklearn.metrics import accuracy_score\n",
    "from sklearn.metrics import confusion_matrix"
   ]
  },
  {
   "cell_type": "code",
   "execution_count": 2,
   "metadata": {},
   "outputs": [],
   "source": [
    "# import data\n",
    "jan_apr_desc = pd.read_csv('dados_afonso/room_say_report/reservas_por_data_criada/jan_apr.csv')\n",
    "may_june_desc = pd.read_csv('dados_afonso/room_say_report/reservas_por_data_criada/may_june.csv')\n",
    "jul_aug_desc = pd.read_csv('dados_afonso/room_say_report/reservas_por_data_criada/jul_aug.csv')\n",
    "\n",
    "data_desc = pd.concat([jan_apr_desc, may_june_desc, jul_aug_desc])\n",
    "\n",
    "jan_mar_pri = pd.read_csv('dados_afonso/reservation_summary/reservas_por_data_criada/jan_mar.csv')\n",
    "apr_jun_pri = pd.read_csv('dados_afonso/reservation_summary/reservas_por_data_criada/apr_jun.csv')\n",
    "jul_set_pri = pd.read_csv('dados_afonso/reservation_summary/reservas_por_data_criada/jul_set.csv')\n",
    "aug_pri = pd.read_csv('dados_afonso/reservation_summary/reservas_por_data_criada/aug.csv')\n",
    "\n",
    "data_pri = pd.concat([jan_mar_pri, apr_jun_pri, jul_set_pri, aug_pri])"
   ]
  },
  {
   "cell_type": "code",
   "execution_count": 3,
   "metadata": {},
   "outputs": [],
   "source": [
    "data = pd.merge(data_desc, data_pri, on='Reservation ID', how='left')\n",
    "\n",
    "data = data[data['Channel_x'] == 'Booking.com']"
   ]
  },
  {
   "cell_type": "code",
   "execution_count": 4,
   "metadata": {},
   "outputs": [],
   "source": [
    "data_cols = data[['Reservation ID', 'Room', 'Total Amount']]"
   ]
  },
  {
   "cell_type": "code",
   "execution_count": 5,
   "metadata": {},
   "outputs": [
    {
     "name": "stderr",
     "output_type": "stream",
     "text": [
      "/tmp/ipykernel_3084/2440387659.py:1: SettingWithCopyWarning: \n",
      "A value is trying to be set on a copy of a slice from a DataFrame\n",
      "\n",
      "See the caveats in the documentation: https://pandas.pydata.org/pandas-docs/stable/user_guide/indexing.html#returning-a-view-versus-a-copy\n",
      "  data_cols.rename(columns={'Reservation ID' : 'id', 'Room' : 'desc', 'Total Amount': 'price'}, inplace=True)\n"
     ]
    }
   ],
   "source": [
    "data_cols.rename(columns={'Reservation ID' : 'id', 'Room' : 'desc', 'Total Amount': 'price'}, inplace=True)"
   ]
  },
  {
   "cell_type": "code",
   "execution_count": 6,
   "metadata": {},
   "outputs": [
    {
     "name": "stderr",
     "output_type": "stream",
     "text": [
      "/tmp/ipykernel_3084/1562624752.py:1: SettingWithCopyWarning: \n",
      "A value is trying to be set on a copy of a slice from a DataFrame.\n",
      "Try using .loc[row_indexer,col_indexer] = value instead\n",
      "\n",
      "See the caveats in the documentation: https://pandas.pydata.org/pandas-docs/stable/user_guide/indexing.html#returning-a-view-versus-a-copy\n",
      "  data_cols.price = data_cols.price.str[:-5]\n"
     ]
    }
   ],
   "source": [
    "data_cols.price = data_cols.price.str[:-5]"
   ]
  },
  {
   "cell_type": "code",
   "execution_count": 7,
   "metadata": {},
   "outputs": [
    {
     "name": "stderr",
     "output_type": "stream",
     "text": [
      "/tmp/ipykernel_3084/1542369163.py:1: SettingWithCopyWarning: \n",
      "A value is trying to be set on a copy of a slice from a DataFrame.\n",
      "Try using .loc[row_indexer,col_indexer] = value instead\n",
      "\n",
      "See the caveats in the documentation: https://pandas.pydata.org/pandas-docs/stable/user_guide/indexing.html#returning-a-view-versus-a-copy\n",
      "  data_cols.price = data_cols.price.astype('float')\n"
     ]
    }
   ],
   "source": [
    "data_cols.price = data_cols.price.astype('float')"
   ]
  },
  {
   "cell_type": "code",
   "execution_count": null,
   "metadata": {},
   "outputs": [],
   "source": [
    "# use nlp to cluster appartments based on descriptions\n",
    "\n",
    "# clean data but leave numbers\n",
    "data_cols = data_cols.drop_duplicates(subset='id', keep=False)\n",
    "data = data.drop_duplicates(subset='Reservation ID', keep=False)\n",
    "\n",
    "def clean_text(text):\n",
    "    text = unidecode(text)\n",
    "    text = text.lower()\n",
    "    return text\n",
    "\n",
    "data_cols['desc'] = data_cols['desc'].apply(clean_text)\n",
    "\n",
    "# select number before \"quarto\" and make it a column\n",
    "def add_n_rooms(text):\n",
    "    n_rooms = re.findall(r'(\\d+)\\s+quarto', text)\n",
    "    if len(n_rooms) > 0:\n",
    "        return int(n_rooms[0])\n",
    "    else:\n",
    "        return 1\n",
    "    \n",
    "data_cols['n_rooms'] = data_cols['desc'].apply(add_n_rooms)\n",
    "\n",
    "# add a columns for road\n",
    "def add_road(text):\n",
    "    rua = re.findall(r'rua\\s+(\\w+)', text)\n",
    "    if len(rua) > 0:\n",
    "        return rua[0]\n",
    "    else:\n",
    "        return 'no_road'\n",
    "    \n",
    "data_cols['road'] = data_cols['desc'].apply(add_road)\n",
    "\n",
    "# remove stuff that I've noticed is not relevant\n",
    "def remove_manually(text):\n",
    "    text = re.sub(r'\\d{1,2}%', '', text)\n",
    "    text = text.replace('nao reembolsavel', '')\n",
    "    text = text.replace('()', '')\n",
    "    text = text.replace('-', '')\n",
    "    text = text.replace('gener', '')\n",
    "    text = text.replace('oferta', '')\n",
    "    text = text.replace('apartamento', '')\n",
    "    text = text.replace('com', '')\n",
    "    text = text.replace('high season', '')\n",
    "    text = text.replace('night', '')\n",
    "    text = re.sub(r'\\d{1,2} adultos', '', text)\n",
    "    text = re.sub(r'\\d{1,2} de \\w{3} de', '', text)\n",
    "    text = re.sub(r'\\w{3} \\d{1,2}', '', text)\n",
    "    text = re.sub(r'\\d', '', text)\n",
    "    return text\n",
    "\n",
    "\n",
    "data_cols['desc'] = data_cols['desc'].apply(remove_manually)\n",
    "\n",
    "\n",
    "# lemmatize data\n",
    "lemmatizer = WordNetLemmatizer()\n",
    "def lemmatize_text(text):\n",
    "    text = [lemmatizer.lemmatize(word) for word in text.split()]\n",
    "    return \" \".join(text)\n",
    "\n",
    "data_cols['desc'] = data_cols['desc'].apply(lemmatize_text)\n",
    "\n",
    "# stem data\n",
    "stemmer = PorterStemmer()\n",
    "def stem_text(text):\n",
    "    text = [stemmer.stem(word) for word in text.split()]\n",
    "    return \" \".join(text)\n",
    "\n",
    "data_cols['desc'] = data_cols['desc'].apply(stem_text)\n",
    "\n",
    "# remove stopwords\n",
    "stop_words = set(stopwords.words('portuguese'))\n",
    "\n",
    "def remove_stopwords(text):\n",
    "    text = [word for word in text.split() if word not in stop_words]\n",
    "    return \" \".join(text)\n",
    "\n",
    "data_cols['desc'] = data_cols['desc'].apply(remove_stopwords)\n",
    "\n",
    "# vectorize data\n",
    "vectorizer = TfidfVectorizer()\n",
    "\n",
    "# one hot encode road\n",
    "road_ohe = pd.get_dummies(data_cols['road'])\n",
    "\n",
    "# define X, which contains a vector for each description and a price\n",
    "vectors = vectorizer.fit_transform(data_cols['desc'])\n",
    "vectors_df = pd.DataFrame(vectors.toarray())\n",
    "price = data_cols['price']\n",
    "n_rooms = data_cols['n_rooms']\n",
    "road_ohe = pd.get_dummies(data_cols['road'])\n",
    "X = np.column_stack((vectors.toarray(), n_rooms, road_ohe))\n",
    "\n",
    "\n",
    "# cluster data\n",
    "kmeans_room = KMeans(n_clusters=21, random_state=0).fit(X)\n",
    "kmeans_type = KMeans(n_clusters=14, random_state=0).fit(X)\n",
    "\n",
    "# add cluster column to data\n",
    "data_cols['cluster_room'] = kmeans_room.labels_\n",
    "data_cols['cluster_type'] = kmeans_type.labels_\n",
    "\n",
    "# add cluster column to data\n",
    "data['cluster_room'] = kmeans_room.labels_\n",
    "data['cluster_type'] = kmeans_type.labels_\n"
   ]
  },
  {
   "cell_type": "code",
   "execution_count": null,
   "metadata": {},
   "outputs": [],
   "source": []
  }
 ],
 "metadata": {
  "kernelspec": {
   "display_name": "lewagon",
   "language": "python",
   "name": "python3"
  },
  "language_info": {
   "codemirror_mode": {
    "name": "ipython",
    "version": 3
   },
   "file_extension": ".py",
   "mimetype": "text/x-python",
   "name": "python",
   "nbconvert_exporter": "python",
   "pygments_lexer": "ipython3",
   "version": "3.10.6"
  },
  "orig_nbformat": 4,
  "vscode": {
   "interpreter": {
    "hash": "ac9eb09536c42b2694f0c1de629ff0ba0bdd685fc40e53a79c8a735909d5445b"
   }
  }
 },
 "nbformat": 4,
 "nbformat_minor": 2
}
